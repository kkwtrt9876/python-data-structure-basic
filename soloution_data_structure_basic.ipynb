{
  "nbformat": 4,
  "nbformat_minor": 0,
  "metadata": {
    "colab": {
      "provenance": []
    },
    "kernelspec": {
      "name": "python3",
      "display_name": "Python 3"
    },
    "language_info": {
      "name": "python"
    }
  },
  "cells": [
    {
      "cell_type": "markdown",
      "source": [
        "**1. Discuss String Slicing and Provide Examples**"
      ],
      "metadata": {
        "id": "0p37j4Lc94Un"
      }
    },
    {
      "cell_type": "markdown",
      "source": [
        "String slicing is a technique used to extract a portion (substring) of a string using a specific range of indices.\n",
        " The syntax for slicing is:\n",
        "\n",
        "string[start:stop:step]\n",
        "\n",
        "start: The starting index (inclusive). Defaults to 0 if not provided.\n",
        "\n",
        "stop: The stopping index (exclusive). Defaults to the end of the string if not provided.\n",
        "\n",
        "step: The step size, which defines the increment between each index. Defaults to 1.\n"
      ],
      "metadata": {
        "id": "ncWbnsum98AP"
      }
    },
    {
      "cell_type": "code",
      "execution_count": 1,
      "metadata": {
        "colab": {
          "base_uri": "https://localhost:8080/"
        },
        "id": "X1JGLnGr93Eh",
        "outputId": "fbd5bb66-fbd9-4b76-e3e0-f945e376e39d"
      },
      "outputs": [
        {
          "output_type": "stream",
          "name": "stdout",
          "text": [
            "Hello\n",
            "World!\n",
            "Hlo ol!\n",
            "!dlroW ,olleH\n"
          ]
        }
      ],
      "source": [
        "text = \"Hello, World!\"\n",
        "\n",
        "# Slicing from index 0 to 5 (exclusive)\n",
        "print(text[0:5])  # Output: Hello\n",
        "\n",
        "# Slicing from index 7 to the end\n",
        "print(text[7:])  # Output: World!\n",
        "\n",
        "# Slicing with a step of 2\n",
        "print(text[::2])  # Output: Hlo ol!\n",
        "\n",
        "# Reversing a string using slicing\n",
        "print(text[::-1])  # Output: !dlroW ,olleH\n"
      ]
    },
    {
      "cell_type": "markdown",
      "source": [
        "**2. Explain the Key Features of Lists in Python**"
      ],
      "metadata": {
        "id": "r9Lsh0Ws-MAl"
      }
    },
    {
      "cell_type": "markdown",
      "source": [
        "Lists are a fundamental data structure in Python with the following key features:\n",
        "\n",
        "Ordered: Elements in a list are ordered and indexed. The order is maintained as you add or remove elements.\n",
        "\n",
        "Mutable: Lists can be modified after creation. You can add, remove, or change elements.\n",
        "\n",
        "Heterogeneous: Lists can contain elements of different data types (e.g., integers, strings, other lists).\n",
        "\n",
        "Dynamic: Lists can grow or shrink in size dynamically.\n",
        "\n",
        "Support for Iteration: You can iterate over lists using loops like for or list comprehensions."
      ],
      "metadata": {
        "id": "vVepWnTC-Rli"
      }
    },
    {
      "cell_type": "code",
      "source": [
        "my_list = [1, 'apple', 3.14, [2, 4, 6]]\n",
        "print(my_list)  # Output: [1, 'apple', 3.14, [2, 4, 6]]\n"
      ],
      "metadata": {
        "colab": {
          "base_uri": "https://localhost:8080/"
        },
        "id": "jT7Rj3CH-LGY",
        "outputId": "31509421-6269-4058-dfd3-89ecdafa5152"
      },
      "execution_count": 2,
      "outputs": [
        {
          "output_type": "stream",
          "name": "stdout",
          "text": [
            "[1, 'apple', 3.14, [2, 4, 6]]\n"
          ]
        }
      ]
    },
    {
      "cell_type": "markdown",
      "source": [
        "**3. Describe How to Access, Modify, and Delete Elements in a List with Examples**"
      ],
      "metadata": {
        "id": "QWY-5OiK-YeR"
      }
    },
    {
      "cell_type": "markdown",
      "source": [
        "Accessing Elements:\n",
        "Elements in a list can be accessed using their index. Python uses zero-based indexing."
      ],
      "metadata": {
        "id": "VfexWtTn-c32"
      }
    },
    {
      "cell_type": "code",
      "source": [
        "my_list = [10, 20, 30, 40, 50]\n",
        "print(my_list[2])  # Output: 30\n",
        "\n",
        "# Accessing elements using negative indexing\n",
        "print(my_list[-1])  # Output: 50\n"
      ],
      "metadata": {
        "colab": {
          "base_uri": "https://localhost:8080/"
        },
        "id": "42wnytab-XLN",
        "outputId": "82f4e9d7-366f-4c9c-8e13-3a417a3e79a6"
      },
      "execution_count": 3,
      "outputs": [
        {
          "output_type": "stream",
          "name": "stdout",
          "text": [
            "30\n",
            "50\n"
          ]
        }
      ]
    },
    {
      "cell_type": "markdown",
      "source": [
        "Modifying Elements:\n",
        "You can modify elements by assigning a new value to a specific index."
      ],
      "metadata": {
        "id": "Dspuws_V-kUj"
      }
    },
    {
      "cell_type": "code",
      "source": [
        "my_list[2] = 35\n",
        "print(my_list)  # Output: [10, 20, 35, 40, 50]\n"
      ],
      "metadata": {
        "colab": {
          "base_uri": "https://localhost:8080/"
        },
        "id": "8mfvEBJ6-g5T",
        "outputId": "5d653b1e-02c0-4ff9-8dab-decb73b3790d"
      },
      "execution_count": 4,
      "outputs": [
        {
          "output_type": "stream",
          "name": "stdout",
          "text": [
            "[10, 20, 35, 40, 50]\n"
          ]
        }
      ]
    },
    {
      "cell_type": "markdown",
      "source": [
        "Deleting Elements:\n",
        "Elements can be removed from a list using the del statement, pop() method, or remove() method."
      ],
      "metadata": {
        "id": "eFOC5GZ8-rvP"
      }
    },
    {
      "cell_type": "code",
      "source": [
        "# Using del to remove an element by index\n",
        "del my_list[1]\n",
        "print(my_list)  # Output: [10, 35, 40, 50]\n",
        "\n",
        "# Using pop to remove the last element or a specific index\n",
        "removed_item = my_list.pop()\n",
        "print(removed_item)  # Output: 50\n",
        "print(my_list)  # Output: [10, 35, 40]\n",
        "\n",
        "# Using remove to delete the first occurrence of a value\n",
        "my_list.remove(35)\n",
        "print(my_list)  # Output: [10, 40]\n"
      ],
      "metadata": {
        "colab": {
          "base_uri": "https://localhost:8080/"
        },
        "id": "f_xSi5_W-m52",
        "outputId": "0eaa0f3f-cbe4-45c3-f558-3c16f5e9f7ee"
      },
      "execution_count": 5,
      "outputs": [
        {
          "output_type": "stream",
          "name": "stdout",
          "text": [
            "[10, 35, 40, 50]\n",
            "50\n",
            "[10, 35, 40]\n",
            "[10, 40]\n"
          ]
        }
      ]
    },
    {
      "cell_type": "markdown",
      "source": [
        "**4. Compare and Contrast Tuples and Lists with Examples**"
      ],
      "metadata": {
        "id": "ATgEwAN_-v65"
      }
    },
    {
      "cell_type": "markdown",
      "source": [
        "Tuples and Lists are both sequences, but they have key differences:\n",
        "\n",
        "Mutability:\n",
        "\n",
        "List: Mutable, meaning elements can be changed, added, or removed.\n",
        "Tuple: Immutable, meaning elements cannot be changed after the tuple is created.\n",
        "Syntax:\n",
        "\n",
        "List: Created using square brackets [].\n",
        "Tuple: Created using parentheses ().\n",
        "Use Case:\n",
        "\n",
        "List: Used when you need a collection of items that can change.\n",
        "Tuple: Used for fixed collections of items, where immutability is required (e.g., coordinates, database records).\n",
        "Examples:"
      ],
      "metadata": {
        "id": "-hQ3mIIR-1-L"
      }
    },
    {
      "cell_type": "code",
      "source": [
        "# List\n",
        "my_list = [1, 2, 3]\n",
        "my_list[1] = 5  # Allowed\n",
        "print(my_list)  # Output: [1, 5, 3]\n",
        "\n",
        "# Tuple\n",
        "my_tuple = (1, 2, 3)\n",
        "# my_tuple[1] = 5  # Error: TypeError: 'tuple' object does not support item assignment\n"
      ],
      "metadata": {
        "colab": {
          "base_uri": "https://localhost:8080/"
        },
        "id": "7iNx3j_1-t4z",
        "outputId": "72d679eb-6d84-4f4e-ae74-182b8b95ba2c"
      },
      "execution_count": 6,
      "outputs": [
        {
          "output_type": "stream",
          "name": "stdout",
          "text": [
            "[1, 5, 3]\n"
          ]
        }
      ]
    },
    {
      "cell_type": "markdown",
      "source": [
        "**5. Describe the Key Features of Sets and Provide Examples of Their Use**"
      ],
      "metadata": {
        "id": "oa-1DEsS-9xW"
      }
    },
    {
      "cell_type": "markdown",
      "source": [
        "Sets are an unordered collection of unique elements. They have the following key features:\n",
        "\n",
        "Unordered: No indexing or order is guaranteed.\n",
        "\n",
        "Unique Elements: Duplicate elements are automatically removed.\n",
        "\n",
        "Mutable: Elements can be added or removed from a set.\n",
        "\n",
        "Support for Set Operations: Support for mathematical set operations like union, intersection, and difference."
      ],
      "metadata": {
        "id": "mfX8NY87_Ber"
      }
    },
    {
      "cell_type": "code",
      "source": [
        "# Creating a set\n",
        "my_set = {1, 2, 3, 3, 4}\n",
        "print(my_set)  # Output: {1, 2, 3, 4}\n",
        "\n",
        "# Adding an element\n",
        "my_set.add(5)\n",
        "print(my_set)  # Output: {1, 2, 3, 4, 5}\n",
        "\n",
        "# Removing an element\n",
        "my_set.remove(2)\n",
        "print(my_set)  # Output: {1, 3, 4, 5}\n",
        "\n",
        "# Set operations\n",
        "set_a = {1, 2, 3}\n",
        "set_b = {3, 4, 5}\n",
        "\n",
        "# Union\n",
        "print(set_a | set_b)  # Output: {1, 2, 3, 4, 5}\n",
        "\n",
        "# Intersection\n",
        "print(set_a & set_b)  # Output: {3}\n",
        "\n"
      ],
      "metadata": {
        "colab": {
          "base_uri": "https://localhost:8080/"
        },
        "id": "s3PE3r4a-8tS",
        "outputId": "9850c1dc-fdb1-4fa7-ee9b-08e1506df0e7"
      },
      "execution_count": 7,
      "outputs": [
        {
          "output_type": "stream",
          "name": "stdout",
          "text": [
            "{1, 2, 3, 4}\n",
            "{1, 2, 3, 4, 5}\n",
            "{1, 3, 4, 5}\n",
            "{1, 2, 3, 4, 5}\n",
            "{3}\n"
          ]
        }
      ]
    },
    {
      "cell_type": "markdown",
      "source": [
        "**6. Discuss the Use Cases of Tuples and Sets in Python Programming**"
      ],
      "metadata": {
        "id": "-SESLrCA_S6b"
      }
    },
    {
      "cell_type": "markdown",
      "source": [
        "Tuples:\n",
        "\n",
        "Immutable Data: Useful for storing data that should not change, such as coordinates, configurations, or constants.\n",
        "\n",
        "Returning Multiple Values: Commonly used to return multiple values from a function.\n",
        "\n",
        "Keys in Dictionaries: Tuples can be used as keys in dictionaries due to their immutability.\n",
        "\n",
        "\n",
        "Sets:\n",
        "\n",
        "Unique Elements: Ideal for situations where you need to ensure all elements are unique, such as removing duplicates from a list.\n",
        "\n",
        "Set Operations: Useful in scenarios requiring mathematical set operations like union, intersection, and difference.\n",
        "\n",
        "Membership Testing: Sets provide fast membership testing (checking if an element is in the set)."
      ],
      "metadata": {
        "id": "q5G_Aqu-_ZnP"
      }
    },
    {
      "cell_type": "markdown",
      "source": [
        "**7. Describe How to Add, Modify, and Delete Items in a Dictionary with Examples**"
      ],
      "metadata": {
        "id": "anMSgKye_hPb"
      }
    },
    {
      "cell_type": "markdown",
      "source": [
        "Adding Items:\n",
        "\n",
        "You can add items by assigning a value to a new key."
      ],
      "metadata": {
        "id": "4hicsd9m_pTW"
      }
    },
    {
      "cell_type": "code",
      "source": [
        "my_dict = {'apple': 1, 'banana': 2}\n",
        "my_dict['orange'] = 3  # Adding a new key-value pair\n",
        "print(my_dict)  # Output: {'apple': 1, 'banana': 2, 'orange': 3}\n"
      ],
      "metadata": {
        "colab": {
          "base_uri": "https://localhost:8080/"
        },
        "id": "gOJJl4M3_R01",
        "outputId": "f01a2986-b2cb-4f04-e21a-75928865e929"
      },
      "execution_count": 8,
      "outputs": [
        {
          "output_type": "stream",
          "name": "stdout",
          "text": [
            "{'apple': 1, 'banana': 2, 'orange': 3}\n"
          ]
        }
      ]
    },
    {
      "cell_type": "markdown",
      "source": [
        "Modifying Items:\n",
        "\n",
        "You can modify items by assigning a new value to an existing key."
      ],
      "metadata": {
        "id": "urAcRLeq_tSz"
      }
    },
    {
      "cell_type": "code",
      "source": [
        "my_dict['banana'] = 5  # Modifying the value of an existing key\n",
        "print(my_dict)  # Output: {'apple': 1, 'banana': 5, 'orange': 3}\n"
      ],
      "metadata": {
        "colab": {
          "base_uri": "https://localhost:8080/"
        },
        "id": "R--H1oMX_riq",
        "outputId": "c48563d7-04ae-40c4-cb90-3e96919703bc"
      },
      "execution_count": 9,
      "outputs": [
        {
          "output_type": "stream",
          "name": "stdout",
          "text": [
            "{'apple': 1, 'banana': 5, 'orange': 3}\n"
          ]
        }
      ]
    },
    {
      "cell_type": "markdown",
      "source": [
        "Deleting Items:\n",
        "\n",
        "You can delete items using the del statement, pop() method, or clear() method to remove all items."
      ],
      "metadata": {
        "id": "v9Q7oPXk_xew"
      }
    },
    {
      "cell_type": "code",
      "source": [
        "# Deleting an item by key\n",
        "del my_dict['apple']\n",
        "print(my_dict)  # Output: {'banana': 5, 'orange': 3}\n",
        "\n",
        "# Using pop to delete and return the value of a key\n",
        "removed_value = my_dict.pop('orange')\n",
        "print(removed_value)  # Output: 3\n",
        "print(my_dict)  # Output: {'banana': 5}\n",
        "\n",
        "# Clearing all items\n",
        "my_dict.clear()\n",
        "print(my_dict)  # Output: {}\n"
      ],
      "metadata": {
        "colab": {
          "base_uri": "https://localhost:8080/"
        },
        "id": "ne2yiv5Z_vL_",
        "outputId": "d7ade428-55f1-4e40-d8d6-14892ebc3f63"
      },
      "execution_count": 10,
      "outputs": [
        {
          "output_type": "stream",
          "name": "stdout",
          "text": [
            "{'banana': 5, 'orange': 3}\n",
            "3\n",
            "{'banana': 5}\n",
            "{}\n"
          ]
        }
      ]
    },
    {
      "cell_type": "markdown",
      "source": [
        "**8. Discuss the Importance of Dictionary Keys Being Immutable and Provide Examples**\n"
      ],
      "metadata": {
        "id": "AYef15GM_3So"
      }
    },
    {
      "cell_type": "markdown",
      "source": [
        "Dictionary keys must be immutable to ensure the key's hash value does not change, which would cause errors in key lookups and dictionary operations. Immutable types, such as strings, numbers, and tuples, can be used as dictionary keys, while mutable types, such as lists or other dictionaries, cannot be used.\n",
        "\n",
        "Example of Valid Keys:"
      ],
      "metadata": {
        "id": "cMCTjsrd_7sL"
      }
    },
    {
      "cell_type": "code",
      "source": [
        "# Using a string as a key\n",
        "my_dict = {'name': 'Alice', 'age': 30}\n",
        "\n",
        "# Using a tuple as a key\n",
        "coordinates = (10, 20)\n",
        "point_dict = {coordinates: 'Point A'}\n"
      ],
      "metadata": {
        "id": "fhoMrC2W_0HS"
      },
      "execution_count": 11,
      "outputs": []
    },
    {
      "cell_type": "markdown",
      "source": [
        "Example of Invalid Key:\n",
        "\n",
        "\n"
      ],
      "metadata": {
        "id": "rQMZZjG7_-65"
      }
    },
    {
      "cell_type": "code",
      "source": [
        "# Trying to use a list as a key (raises a TypeError)\n",
        "# my_dict = {[1, 2, 3]: 'invalid'}  # Error: TypeError: unhashable type: 'list'"
      ],
      "metadata": {
        "id": "Ctb1wUw9_-d6"
      },
      "execution_count": 12,
      "outputs": []
    },
    {
      "cell_type": "markdown",
      "source": [
        "Importance:\n",
        "\n",
        "Consistency: Immutable keys ensure that the key remains consistent throughout the dictionary's lifespan, allowing reliable access to associated values.\n",
        "\n",
        "Hashing: Dictionaries use hashing to store and retrieve data efficiently. Immutable keys guarantee that the hash value remains the same, ensuring fast lookups.\n",
        "\n",
        "This immutability requirement is crucial for maintaining the integrity and efficiency of dictionary operations."
      ],
      "metadata": {
        "id": "H7mf2sNwAHIX"
      }
    },
    {
      "cell_type": "code",
      "source": [],
      "metadata": {
        "id": "OWYNKT9yAEN-"
      },
      "execution_count": null,
      "outputs": []
    }
  ]
}